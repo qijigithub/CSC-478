{
 "cells": [
  {
   "cell_type": "markdown",
   "metadata": {},
   "source": [
    "# ## Part 1\n",
    "\n",
    "Consider the sklearn.datasets.digits seen in class. Each image consists of 8x8 pixels. \n",
    "\n",
    "Perform the following transformations on each image and for each transformation try K-nearest-neighbors and LogisticRegression to classify each of the 9 digits.\n",
    "\n",
    "For each transformation and for each algorithm, report in a table the F1 of the worst performing digit."
   ]
  },
  {
   "cell_type": "code",
   "execution_count": 1,
   "metadata": {
    "collapsed": true
   },
   "outputs": [],
   "source": [
    "import pandas as pd\n",
    "import numpy as np\n",
    "import sklearn\n",
    "from sklearn.pipeline import Pipeline\n",
    "from sklearn.preprocessing import StandardScaler, Imputer\n",
    "from sklearn.neighbors import KNeighborsClassifier\n",
    "from sklearn.linear_model import LogisticRegression, LinearRegression\n",
    "from sklearn.neighbors import KNeighborsClassifier\n",
    "from sklearn.metrics import confusion_matrix\n",
    "from sklearn.metrics import mean_squared_error\n",
    "import matplotlib\n",
    "import matplotlib.pylab as plt\n",
    "%matplotlib inline \n",
    "from sklearn import datasets"
   ]
  },
  {
   "cell_type": "markdown",
   "metadata": {},
   "source": [
    "Load data and shuffle"
   ]
  },
  {
   "cell_type": "code",
   "execution_count": 2,
   "metadata": {
    "collapsed": true
   },
   "outputs": [],
   "source": [
    "digits=datasets.load_digits()"
   ]
  },
  {
   "cell_type": "code",
   "execution_count": 3,
   "metadata": {
    "collapsed": true
   },
   "outputs": [],
   "source": [
    "y=digits['target']\n",
    "index=range(len(y))\n",
    "import random\n",
    "random.shuffle(index)\n",
    "X=digits['data']\n",
    "X1=np.array([X[index[i]] for i in range(len(y))])\n",
    "y=np.array([y[index[i]] for i in range(len(y))])"
   ]
  },
  {
   "cell_type": "code",
   "execution_count": null,
   "metadata": {
    "collapsed": true
   },
   "outputs": [],
   "source": []
  },
  {
   "cell_type": "code",
   "execution_count": null,
   "metadata": {
    "collapsed": true
   },
   "outputs": [],
   "source": []
  },
  {
   "cell_type": "markdown",
   "metadata": {},
   "source": [
    "# - convert every pixel to 1 if it contains a signal, 0 otherwise"
   ]
  },
  {
   "cell_type": "code",
   "execution_count": 4,
   "metadata": {
    "collapsed": true
   },
   "outputs": [],
   "source": [
    "def trans(X):\n",
    "    return np.array([i!=0 for i in X]) "
   ]
  },
  {
   "cell_type": "code",
   "execution_count": 5,
   "metadata": {
    "collapsed": true
   },
   "outputs": [],
   "source": [
    "def transform(y,digit_number=0):\n",
    "    return np.array([x==digit_number for x in y])"
   ]
  },
  {
   "cell_type": "code",
   "execution_count": 6,
   "metadata": {
    "scrolled": true
   },
   "outputs": [
    {
     "data": {
      "text/plain": [
       "array([[False, False,  True, ...,  True,  True, False],\n",
       "       [False, False, False, ...,  True, False, False],\n",
       "       [False,  True,  True, ...,  True,  True, False],\n",
       "       ..., \n",
       "       [False, False,  True, ...,  True, False, False],\n",
       "       [False, False, False, ...,  True,  True, False],\n",
       "       [False, False, False, ...,  True, False, False]], dtype=bool)"
      ]
     },
     "execution_count": 6,
     "metadata": {},
     "output_type": "execute_result"
    }
   ],
   "source": [
    "np.array([i!=0 for i in X1])"
   ]
  },
  {
   "cell_type": "code",
   "execution_count": 7,
   "metadata": {
    "collapsed": true
   },
   "outputs": [],
   "source": [
    "def process(X,y,digit_number=0):\n",
    "    n=len(y)/2\n",
    "    X_train=trans(X[:n])\n",
    "    X_test=trans(X[n:])\n",
    "    y_train=transform(y[:n],digit_number)\n",
    "    y_test=transform(y[n:],digit_number)\n",
    "    model=LogisticRegression()\n",
    "    model.fit(X_train,y_train)\n",
    "    yr_pred=model.predict(X_test)\n",
    "    tn1,fp1,fn1,tp1=confusion_matrix(y_test,yr_pred).ravel()\n",
    "    tpr1 = float(tp1)/(tp1+fn1) # recall or true positive rate\n",
    "    tnr1 = float(tn1)/(tn1+fp1) # true negative rate\n",
    "    ppv1 = float(tp1)/(tp1+fp1) # precision or positive predictive power\n",
    "    npv1 = float(tn1)/(tn1+fn1) # negative predictive power\n",
    "    f1 = 2.0/(1.0/ppv1+1.0/tpr1)\n",
    "    model=KNeighborsClassifier()\n",
    "    model.fit(X_train,y_train)\n",
    "    yk_pred=model.predict(X_test)\n",
    "    tn2,fp2,fn2,tp2=confusion_matrix(y_test,yk_pred).ravel()\n",
    "    tpr2 = float(tp2)/(tp2+fn2) # recall or true positive rate\n",
    "    tnr2 = float(tn2)/(tn2+fp2) # true negative rate\n",
    "    ppv2= float(tp2)/(tp2+fp2) # precision or positive predictive power\n",
    "    npv2 = float(tn2)/(tn2+fn2) # negative predictive power\n",
    "    f2 = 2.0/(1.0/ppv2+1.0/tpr2)\n",
    "    return f1,f2"
   ]
  },
  {
   "cell_type": "code",
   "execution_count": 8,
   "metadata": {
    "scrolled": true
   },
   "outputs": [
    {
     "name": "stdout",
     "output_type": "stream",
     "text": [
      "k  LogisticRegression  KNeighborsClassifier\n",
      "0 (0.9900000000000001, 0.9901960784313726)\n",
      "1 (0.6711409395973156, 0.7471264367816093)\n",
      "2 (0.9122807017543859, 0.9195402298850576)\n",
      "3 (0.8068181818181818, 0.8837209302325582)\n",
      "4 (0.9325842696629213, 0.9617486338797816)\n",
      "5 (0.9101796407185629, 0.8957055214723926)\n",
      "6 (0.9368421052631579, 0.9574468085106385)\n",
      "7 (0.9440993788819877, 0.9512195121951219)\n",
      "8 (0.556390977443609, 0.6904761904761904)\n",
      "9 (0.718954248366013, 0.8470588235294119)\n"
     ]
    }
   ],
   "source": [
    "print 'k','','LogisticRegression','','KNeighborsClassifier'\n",
    "for k in range(10):\n",
    "    print k,process(X1,y,digit_number=k)"
   ]
  },
  {
   "cell_type": "code",
   "execution_count": 9,
   "metadata": {},
   "outputs": [
    {
     "data": {
      "text/plain": [
       "(0.556390977443609, 0.6904761904761904)"
      ]
     },
     "execution_count": 9,
     "metadata": {},
     "output_type": "execute_result"
    }
   ],
   "source": [
    "min([process(X1,y,digit_number=k) for k in range(10)])"
   ]
  },
  {
   "cell_type": "markdown",
   "metadata": {},
   "source": [
    "The worth performing digit is 8."
   ]
  },
  {
   "cell_type": "code",
   "execution_count": 10,
   "metadata": {
    "collapsed": true
   },
   "outputs": [],
   "source": [
    "#X1[0]"
   ]
  },
  {
   "cell_type": "code",
   "execution_count": 11,
   "metadata": {
    "collapsed": true
   },
   "outputs": [],
   "source": [
    "#X1[0].reshape(8,8)"
   ]
  },
  {
   "cell_type": "code",
   "execution_count": 12,
   "metadata": {
    "collapsed": true
   },
   "outputs": [],
   "source": [
    "#[np.sum(X1[0].reshape(8,8),axis=1),np.sum(X1[0].reshape(8,8),axis=0)]"
   ]
  },
  {
   "cell_type": "code",
   "execution_count": 13,
   "metadata": {
    "collapsed": true
   },
   "outputs": [],
   "source": [
    "#a=np.sum(X1[0].reshape(8,8),axis=1)\n",
    "#b=np.sum(X1[0].reshape(8,8),axis=0)"
   ]
  },
  {
   "cell_type": "code",
   "execution_count": 14,
   "metadata": {
    "collapsed": true
   },
   "outputs": [],
   "source": [
    "#c=np.concatenate((a, b), axis=0)"
   ]
  },
  {
   "cell_type": "code",
   "execution_count": 15,
   "metadata": {
    "collapsed": true
   },
   "outputs": [],
   "source": [
    "#c"
   ]
  },
  {
   "cell_type": "markdown",
   "metadata": {},
   "source": [
    "# - add the pixels by row and by column to covert 8x8 features into 8+8 features"
   ]
  },
  {
   "cell_type": "code",
   "execution_count": null,
   "metadata": {
    "collapsed": true
   },
   "outputs": [],
   "source": []
  },
  {
   "cell_type": "code",
   "execution_count": 16,
   "metadata": {
    "collapsed": true
   },
   "outputs": [],
   "source": [
    "X2=[]\n",
    "for i in range(len(X1)):\n",
    "    a=np.sum(X1[i].reshape(8,8),axis=1)\n",
    "    b=np.sum(X1[i].reshape(8,8),axis=0)\n",
    "    c=np.concatenate((a, b), axis=0)\n",
    "    X2.append(c)"
   ]
  },
  {
   "cell_type": "code",
   "execution_count": 17,
   "metadata": {},
   "outputs": [
    {
     "data": {
      "text/plain": [
       "1797"
      ]
     },
     "execution_count": 17,
     "metadata": {},
     "output_type": "execute_result"
    }
   ],
   "source": [
    "len(X2)"
   ]
  },
  {
   "cell_type": "code",
   "execution_count": 18,
   "metadata": {
    "collapsed": true
   },
   "outputs": [],
   "source": [
    "def process2(X,y,digit_number=0):\n",
    "    n=len(y)/2\n",
    "    X_train=X[:n]\n",
    "    X_test=X[n:]\n",
    "    y_train=transform(y[:n],digit_number)\n",
    "    y_test=transform(y[n:],digit_number)\n",
    "    model=LogisticRegression()\n",
    "    model.fit(X_train,y_train)\n",
    "    yr_pred=model.predict(X_test)\n",
    "    tn1,fp1,fn1,tp1=confusion_matrix(y_test,yr_pred).ravel()\n",
    "    tpr1 = float(tp1)/(tp1+fn1) # recall or true positive rate\n",
    "    tnr1 = float(tn1)/(tn1+fp1) # true negative rate\n",
    "    ppv1 = float(tp1)/(tp1+fp1) # precision or positive predictive power\n",
    "    npv1 = float(tn1)/(tn1+fn1) # negative predictive power\n",
    "    f1 = 2.0/(1.0/ppv1+1.0/tpr1)\n",
    "    model=KNeighborsClassifier()\n",
    "    model.fit(X_train,y_train)\n",
    "    yk_pred=model.predict(X_test)\n",
    "    tn2,fp2,fn2,tp2=confusion_matrix(y_test,yk_pred).ravel()\n",
    "    tpr2 = float(tp2)/(tp2+fn2) # recall or true positive rate\n",
    "    tnr2 = float(tn2)/(tn2+fp2) # true negative rate\n",
    "    ppv2= float(tp2)/(tp2+fp2) # precision or positive predictive power\n",
    "    npv2 = float(tn2)/(tn2+fn2) # negative predictive power\n",
    "    f2 = 2.0/(1.0/ppv2+1.0/tpr2)\n",
    "    return f1,f2"
   ]
  },
  {
   "cell_type": "code",
   "execution_count": 19,
   "metadata": {},
   "outputs": [
    {
     "name": "stdout",
     "output_type": "stream",
     "text": [
      "k  LogisticRegression  KNeighborsClassifier\n",
      "0 (0.9035532994923858, 0.9950248756218907)\n",
      "1 (0.7682119205298014, 0.968553459119497)\n",
      "2 (0.8941176470588235, 0.9404761904761906)\n",
      "3 (0.7486033519553073, 0.9263157894736842)\n",
      "4 (0.9189189189189189, 0.9837837837837838)\n",
      "5 (0.8070175438596492, 0.8786127167630058)\n",
      "6 (0.8842105263157894, 0.9735449735449735)\n",
      "7 (0.9058823529411765, 0.935672514619883)\n",
      "8 (0.288135593220339, 0.8439306358381502)\n",
      "9 (0.804878048780488, 0.9112426035502958)\n"
     ]
    }
   ],
   "source": [
    "print 'k','','LogisticRegression','','KNeighborsClassifier'\n",
    "for k in range(10):\n",
    "    print k,process2(X2,y,digit_number=k)"
   ]
  },
  {
   "cell_type": "code",
   "execution_count": 20,
   "metadata": {},
   "outputs": [
    {
     "data": {
      "text/plain": [
       "(0.288135593220339, 0.8439306358381502)"
      ]
     },
     "execution_count": 20,
     "metadata": {},
     "output_type": "execute_result"
    }
   ],
   "source": [
    "min([process2(X2,y,digit_number=k) for k in range(10)])"
   ]
  },
  {
   "cell_type": "markdown",
   "metadata": {},
   "source": [
    "The worth performing digit is 8."
   ]
  },
  {
   "cell_type": "markdown",
   "metadata": {},
   "source": [
    "# - pick a random subset of 8 pixels from within the image"
   ]
  },
  {
   "cell_type": "code",
   "execution_count": 21,
   "metadata": {
    "collapsed": true
   },
   "outputs": [],
   "source": [
    "import random"
   ]
  },
  {
   "cell_type": "code",
   "execution_count": 27,
   "metadata": {
    "collapsed": true
   },
   "outputs": [],
   "source": [
    "x=X1[0].reshape(8,8)"
   ]
  },
  {
   "cell_type": "code",
   "execution_count": 23,
   "metadata": {
    "collapsed": true
   },
   "outputs": [],
   "source": [
    "#X1[0]"
   ]
  },
  {
   "cell_type": "code",
   "execution_count": 24,
   "metadata": {
    "collapsed": true
   },
   "outputs": [],
   "source": [
    "#X1[2].reshape(8,8)"
   ]
  },
  {
   "cell_type": "code",
   "execution_count": 28,
   "metadata": {},
   "outputs": [],
   "source": [
    "X3=[]\n",
    "index=range(len(x))\n",
    "random.shuffle(index)\n",
    "for i in range(len(X1)):\n",
    "    a=X1[i].reshape(8,8)\n",
    "    b=np.array([a[j,index[j]] for j in range(len(a))])\n",
    "    X3.append(b)"
   ]
  },
  {
   "cell_type": "code",
   "execution_count": 29,
   "metadata": {
    "collapsed": true
   },
   "outputs": [],
   "source": [
    "def process3(X,y,digit_number=0):\n",
    "    n=len(y)/2\n",
    "    X_train=X[:n]\n",
    "    X_test=X[n:]\n",
    "    y_train=transform(y[:n],digit_number)\n",
    "    y_test=transform(y[n:],digit_number)\n",
    "    model=LogisticRegression()\n",
    "    model.fit(X_train,y_train)\n",
    "    yr_pred=model.predict(X_test)\n",
    "    tn1,fp1,fn1,tp1=confusion_matrix(y_test,yr_pred).ravel()\n",
    "    tp1 =max(tp1, 1)\n",
    "    tpr1 = float(tp1)/(tp1+fn1) # recall or true positive rate\n",
    "    tnr1 = float(tn1)/(tn1+fp1) # true negative rate\n",
    "    ppv1 = float(tp1)/(tp1+fp1) # precision or positive predictive power\n",
    "    npv1 = float(tn1)/(tn1+fn1) # negative predictive power\n",
    "    f1 = 2.0/(1.0/ppv1+1.0/tpr1)\n",
    "    model=KNeighborsClassifier()\n",
    "    model.fit(X_train,y_train)\n",
    "    yk_pred=model.predict(X_test)\n",
    "    tn2,fp2,fn2,tp2=confusion_matrix(y_test,yk_pred).ravel()\n",
    "    tp2 =max(tp2, 1)\n",
    "    tpr2 = float(tp2)/(tp2+fn2) # recall or true positive rate\n",
    "    tnr2 = float(tn2)/(tn2+fp2) # true negative rate\n",
    "    ppv2= float(tp2)/(tp2+fp2) # precision or positive predictive power\n",
    "    npv2 = float(tn2)/(tn2+fn2) # negative predictive power\n",
    "    f2 = 2.0/(1.0/ppv2+1.0/tpr2)\n",
    "    return f1,f2"
   ]
  },
  {
   "cell_type": "code",
   "execution_count": 30,
   "metadata": {},
   "outputs": [
    {
     "name": "stdout",
     "output_type": "stream",
     "text": [
      "k  LogisticRegression  KNeighborsClassifier\n",
      "0 (0.43870967741935485, 0.6229508196721311)\n",
      "1 (0.6129032258064516, 0.7162162162162161)\n",
      "2 (0.46511627906976744, 0.5476190476190476)\n",
      "3 (0.37209302325581395, 0.4666666666666667)\n",
      "4 (0.6936416184971098, 0.768421052631579)\n",
      "5 (0.29032258064516125, 0.27199999999999996)\n",
      "6 (0.8021390374331552, 0.7777777777777779)\n",
      "7 (0.7719298245614036, 0.7398843930635838)\n",
      "8 (0.022727272727272728, 0.24074074074074073)\n",
      "9 (0.17142857142857143, 0.4105960264900662)\n"
     ]
    }
   ],
   "source": [
    "print 'k','','LogisticRegression','','KNeighborsClassifier'\n",
    "for k in range(10):\n",
    "    print k,process3(X3,y,digit_number=k)"
   ]
  },
  {
   "cell_type": "code",
   "execution_count": 31,
   "metadata": {},
   "outputs": [
    {
     "data": {
      "text/plain": [
       "(0.022727272727272728, 0.24074074074074073)"
      ]
     },
     "execution_count": 31,
     "metadata": {},
     "output_type": "execute_result"
    }
   ],
   "source": [
    "min([process3(X3,y,digit_number=k) for k in range(10)])"
   ]
  },
  {
   "cell_type": "markdown",
   "metadata": {},
   "source": [
    "The worth performing digit is 8."
   ]
  },
  {
   "cell_type": "markdown",
   "metadata": {},
   "source": [
    "# Part 2\n",
    "\n",
    "If you wanted to try all combinations of 8 pixels, how many combinations would you have to try? If you wanted to know which subset of 8 pixels results in the best classification, without trying all possible combinations, which strategy would you suggest? How may times do you have to run the classifier in your proposed strategy? Implement your strategy. Which 8 pixels are the most significant? What are the precision and recall for each digit?"
   ]
  },
  {
   "cell_type": "markdown",
   "metadata": {},
   "source": [
    "answer: If I wanted to try all combinations of 8 pixels,64!/(64-8)!*8!= 4426165368 combinations would you have to try. I think the pixel in the diagonal line for each 8*8 picture is the most important pixel， which is [1,1],[2,2]...[8,8]. If we choose this 8 large pixels, we can get highest F1 value. My another strategy is use 64 pixel as 64 feature, and  calculate infomation gain to choose which 8 feature of the whole feature are more important, and choose that 8 feature to predict."
   ]
  },
  {
   "cell_type": "code",
   "execution_count": 52,
   "metadata": {
    "collapsed": true
   },
   "outputs": [],
   "source": [
    "X4=[]\n",
    "for i in range(len(X1)):\n",
    "    a=X1[i].reshape(8,8)\n",
    "    #b=np.array([a[4,j] for j in range(len(a))])\n",
    "    b=np.array([a[j,j] for j in range(len(a))])\n",
    "    #b=np.array([a[j,4] for j in range(len(a))])\n",
    "    X4.append(b)"
   ]
  },
  {
   "cell_type": "code",
   "execution_count": 53,
   "metadata": {
    "collapsed": true
   },
   "outputs": [],
   "source": [
    "def process4(X,y,digit_number=0):\n",
    "    n=len(y)/2\n",
    "    X_train=X[:n]\n",
    "    X_test=X[n:]\n",
    "    y_train=transform(y[:n],digit_number)\n",
    "    y_test=transform(y[n:],digit_number)\n",
    "    model=LogisticRegression()\n",
    "    model.fit(X_train,y_train)\n",
    "    yr_pred=model.predict(X_test)\n",
    "    tn1,fp1,fn1,tp1=confusion_matrix(y_test,yr_pred).ravel()\n",
    "    tp1 =max(tp1, 1)\n",
    "    tpr1 = float(tp1)/(tp1+fn1) # recall or true positive rate\n",
    "    tnr1 = float(tn1)/(tn1+fp1) # true negative rate\n",
    "    ppv1 = float(tp1)/(tp1+fp1) # precision or positive predictive power\n",
    "    npv1 = float(tn1)/(tn1+fn1) # negative predictive power\n",
    "    f1 = 2.0/(1.0/ppv1+1.0/tpr1)\n",
    "    model=KNeighborsClassifier()\n",
    "    model.fit(X_train,y_train)\n",
    "    yk_pred=model.predict(X_test)\n",
    "    tn2,fp2,fn2,tp2=confusion_matrix(y_test,yk_pred).ravel()\n",
    "    tp2 =max(tp2, 1)\n",
    "    tpr2 = float(tp2)/(tp2+fn2) # recall or true positive rate\n",
    "    tnr2 = float(tn2)/(tn2+fp2) # true negative rate\n",
    "    ppv2= float(tp2)/(tp2+fp2) # precision or positive predictive power\n",
    "    npv2 = float(tn2)/(tn2+fn2) # negative predictive power\n",
    "    f2 = 2.0/(1.0/ppv2+1.0/tpr2)\n",
    "    return f1,tpr1,ppv1,f2,tpr2,ppv2"
   ]
  },
  {
   "cell_type": "code",
   "execution_count": 54,
   "metadata": {},
   "outputs": [
    {
     "name": "stdout",
     "output_type": "stream",
     "text": [
      "k   LogisticRegression          tpr            ppv            KNeighborsClassifier        tpr           ppv\n",
      "0 (0.9183673469387754, 0.8910891089108911, 0.9473684210526315, 0.9191919191919191, 0.900990099009901, 0.9381443298969072)\n",
      "1 (0.6470588235294117, 0.5569620253164557, 0.7719298245614035, 0.7074829931972789, 0.6582278481012658, 0.7647058823529411)\n",
      "2 (0.7453416149068323, 0.6741573033707865, 0.8333333333333334, 0.782608695652174, 0.7078651685393258, 0.875)\n",
      "3 (0.6347305389221557, 0.5698924731182796, 0.7162162162162162, 0.6666666666666666, 0.5806451612903226, 0.782608695652174)\n",
      "4 (0.406015037593985, 0.2903225806451613, 0.675, 0.6947368421052631, 0.7096774193548387, 0.6804123711340206)\n",
      "5 (0.3692307692307692, 0.26666666666666666, 0.6, 0.5298013245033112, 0.4444444444444444, 0.6557377049180327)\n",
      "6 (0.6705882352941176, 0.6, 0.76, 0.6627218934911242, 0.5894736842105263, 0.7567567567567568)\n",
      "7 (0.6285714285714286, 0.5176470588235295, 0.8, 0.7239263803680981, 0.6941176470588235, 0.7564102564102564)\n",
      "8 (0.022727272727272728, 0.011494252873563218, 1.0, 0.38848920863309355, 0.313953488372093, 0.5094339622641509)\n",
      "9 (0.3801652892561983, 0.26136363636363635, 0.696969696969697, 0.4966442953020134, 0.42045454545454547, 0.6065573770491803)\n"
     ]
    }
   ],
   "source": [
    "print 'k',' ','LogisticRegression','        ','tpr','          ','ppv','          ','KNeighborsClassifier','       tpr','         ','ppv'\n",
    "for k in range(10):\n",
    "    print k,process4(X4,y,digit_number=k)"
   ]
  },
  {
   "cell_type": "code",
   "execution_count": null,
   "metadata": {
    "collapsed": true
   },
   "outputs": [],
   "source": []
  },
  {
   "cell_type": "code",
   "execution_count": 55,
   "metadata": {
    "collapsed": true
   },
   "outputs": [],
   "source": [
    "#a=X1[0].reshape(8,8)"
   ]
  },
  {
   "cell_type": "code",
   "execution_count": 35,
   "metadata": {
    "collapsed": true
   },
   "outputs": [],
   "source": [
    "#a"
   ]
  },
  {
   "cell_type": "code",
   "execution_count": 56,
   "metadata": {},
   "outputs": [
    {
     "data": {
      "text/plain": [
       "0.62968493360957745"
      ]
     },
     "execution_count": 56,
     "metadata": {},
     "output_type": "execute_result"
    }
   ],
   "source": [
    "#np.average([process4(X4,y,digit_number=k) for k in range(10)])"
   ]
  },
  {
   "cell_type": "markdown",
   "metadata": {
    "collapsed": true
   },
   "source": []
  },
  {
   "cell_type": "markdown",
   "metadata": {
    "collapsed": true
   },
   "source": []
  },
  {
   "cell_type": "code",
   "execution_count": null,
   "metadata": {
    "collapsed": true
   },
   "outputs": [],
   "source": []
  },
  {
   "cell_type": "code",
   "execution_count": null,
   "metadata": {
    "collapsed": true
   },
   "outputs": [],
   "source": []
  },
  {
   "cell_type": "code",
   "execution_count": null,
   "metadata": {
    "collapsed": true
   },
   "outputs": [],
   "source": []
  },
  {
   "cell_type": "code",
   "execution_count": null,
   "metadata": {
    "collapsed": true
   },
   "outputs": [],
   "source": []
  },
  {
   "cell_type": "code",
   "execution_count": null,
   "metadata": {
    "collapsed": true
   },
   "outputs": [],
   "source": []
  },
  {
   "cell_type": "code",
   "execution_count": null,
   "metadata": {
    "collapsed": true
   },
   "outputs": [],
   "source": []
  },
  {
   "cell_type": "code",
   "execution_count": null,
   "metadata": {
    "collapsed": true
   },
   "outputs": [],
   "source": []
  },
  {
   "cell_type": "code",
   "execution_count": null,
   "metadata": {
    "collapsed": true
   },
   "outputs": [],
   "source": []
  }
 ],
 "metadata": {
  "kernelspec": {
   "display_name": "Python 2",
   "language": "python",
   "name": "python2"
  },
  "language_info": {
   "codemirror_mode": {
    "name": "ipython",
    "version": 2
   },
   "file_extension": ".py",
   "mimetype": "text/x-python",
   "name": "python",
   "nbconvert_exporter": "python",
   "pygments_lexer": "ipython2",
   "version": "2.7.14"
  }
 },
 "nbformat": 4,
 "nbformat_minor": 2
}
